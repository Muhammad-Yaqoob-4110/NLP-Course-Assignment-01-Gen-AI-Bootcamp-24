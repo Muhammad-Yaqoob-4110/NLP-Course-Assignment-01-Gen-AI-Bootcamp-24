{
 "cells": [
  {
   "cell_type": "code",
   "execution_count": 1,
   "metadata": {},
   "outputs": [
    {
     "data": {
      "text/html": [
       "<div>\n",
       "<style scoped>\n",
       "    .dataframe tbody tr th:only-of-type {\n",
       "        vertical-align: middle;\n",
       "    }\n",
       "\n",
       "    .dataframe tbody tr th {\n",
       "        vertical-align: top;\n",
       "    }\n",
       "\n",
       "    .dataframe thead th {\n",
       "        text-align: right;\n",
       "    }\n",
       "</style>\n",
       "<table border=\"1\" class=\"dataframe\">\n",
       "  <thead>\n",
       "    <tr style=\"text-align: right;\">\n",
       "      <th></th>\n",
       "      <th>review</th>\n",
       "      <th>class</th>\n",
       "    </tr>\n",
       "  </thead>\n",
       "  <tbody>\n",
       "    <tr>\n",
       "      <th>0</th>\n",
       "      <td>Fantastic spot for an even or a quite cocktail...</td>\n",
       "      <td>1</td>\n",
       "    </tr>\n",
       "    <tr>\n",
       "      <th>1</th>\n",
       "      <td>Love, love, love the calamari. It's so good an...</td>\n",
       "      <td>1</td>\n",
       "    </tr>\n",
       "    <tr>\n",
       "      <th>2</th>\n",
       "      <td>Love this place. Stiff martinis and cocktails,...</td>\n",
       "      <td>1</td>\n",
       "    </tr>\n",
       "    <tr>\n",
       "      <th>3</th>\n",
       "      <td>It's everything a great cocktail bar should be...</td>\n",
       "      <td>1</td>\n",
       "    </tr>\n",
       "    <tr>\n",
       "      <th>4</th>\n",
       "      <td>I came here before a pirates game, so it was a...</td>\n",
       "      <td>1</td>\n",
       "    </tr>\n",
       "  </tbody>\n",
       "</table>\n",
       "</div>"
      ],
      "text/plain": [
       "                                              review  class\n",
       "0  Fantastic spot for an even or a quite cocktail...      1\n",
       "1  Love, love, love the calamari. It's so good an...      1\n",
       "2  Love this place. Stiff martinis and cocktails,...      1\n",
       "3  It's everything a great cocktail bar should be...      1\n",
       "4  I came here before a pirates game, so it was a...      1"
      ]
     },
     "execution_count": 1,
     "metadata": {},
     "output_type": "execute_result"
    }
   ],
   "source": [
    "# Part 1: Text Collection and Loading\n",
    "import pandas as pd\n",
    "\n",
    "df = pd.read_csv(\"TestReviews.csv\")\n",
    "df.head()"
   ]
  },
  {
   "cell_type": "code",
   "execution_count": 2,
   "metadata": {},
   "outputs": [],
   "source": [
    "# Part 2: Text Preprocessing\n",
    "import nltk\n",
    "\n",
    "# Load the Gutenberg corpus\n",
    "corpus = nltk.corpus.gutenberg.raw()"
   ]
  },
  {
   "cell_type": "code",
   "execution_count": 3,
   "metadata": {},
   "outputs": [],
   "source": [
    "# Tokenization: Split the text into words and sentences\n",
    "words = nltk.tokenize.word_tokenize(corpus)\n",
    "sentences = nltk.tokenize.sent_tokenize(corpus)"
   ]
  },
  {
   "cell_type": "code",
   "execution_count": 4,
   "metadata": {},
   "outputs": [
    {
     "name": "stdout",
     "output_type": "stream",
     "text": [
      "['[', 'Emma', 'by', 'Jane', 'Austen', '1816', ']', 'VOLUME', 'I', 'CHAPTER']\n",
      "['[Emma by Jane Austen 1816]\\n\\nVOLUME I\\n\\nCHAPTER I\\n\\n\\nEmma Woodhouse, handsome, clever, and rich, with a comfortable home\\nand happy disposition, seemed to unite some of the best blessings\\nof existence; and had lived nearly twenty-one years in the world\\nwith very little to distress or vex her.', \"She was the youngest of the two daughters of a most affectionate,\\nindulgent father; and had, in consequence of her sister's marriage,\\nbeen mistress of his house from a very early period.\"]\n"
     ]
    }
   ],
   "source": [
    "print(words[:10])\n",
    "print(sentences[:2])"
   ]
  },
  {
   "cell_type": "code",
   "execution_count": 16,
   "metadata": {},
   "outputs": [],
   "source": [
    "# tokeniztion on dataset\n",
    "reviews_words = df['review'].apply(lambda x: nltk.tokenize.word_tokenize(x))"
   ]
  },
  {
   "cell_type": "code",
   "execution_count": 17,
   "metadata": {},
   "outputs": [
    {
     "name": "stdout",
     "output_type": "stream",
     "text": [
      "0     [Fantastic, spot, for, an, even, or, a, quite,...\n",
      "1     [Love, ,, love, ,, love, the, calamari, ., It,...\n",
      "2     [Love, this, place, ., Stiff, martinis, and, c...\n",
      "3     [It, 's, everything, a, great, cocktail, bar, ...\n",
      "4     [I, came, here, before, a, pirates, game, ,, s...\n",
      "5     [Olive, or, Twist, is, the, historic, site, of...\n",
      "6     [A, beautiful, little, bar, with, an, exciting...\n",
      "7     [My, favorite, bar, in, town, love, the, live,...\n",
      "8     [The, location, is, in, a, strip, mall, ,, but...\n",
      "9     [THIS, PLACE, IS, OPEN, !, The, best, food, an...\n",
      "10    [We, ca, n't, say, enough, good, things, about...\n",
      "11    [My, husband, and, I, want, to, give, six, sta...\n",
      "12    [I, 'm, still, laughing, reading, poor, Maribe...\n",
      "13    [My, husband, and, I, have, been, here, severa...\n",
      "14    [Very, ,, very, good, ., Top, notch, calamari,...\n",
      "15    [Saturday, night, at, Salutes, is, a, real, tr...\n",
      "16    [Went, with, family, last, night, ..., loved, ...\n",
      "17    [I, 've, been, waiting, to, change, from, four...\n",
      "18    [WARD, is, the, best, bartender, ., I, hope, t...\n",
      "19    [Love, this, bar, !, GREAT, affordable, food, ...\n",
      "20    [Irene, 's, was, my, favorite, spot, to, drink...\n",
      "21    [When, I, lived, in, Vegas, I, was, right, beh...\n",
      "22    [I, take, clients, to, clubs, for, lunch, when...\n",
      "23    [This, is, by, far, the, best, strip, club, in...\n",
      "24    [Love, the, place, ,, very, friendly, staff, a...\n",
      "25    [Not, only, does, this, club, have, gorgeous, ...\n",
      "26    [Great, food, and, atmosphere, ., Very, upscal...\n",
      "27    [This, is, by, far, the, nicest, place, in, Ch...\n",
      "28    [Brought, a, group, of, my, good, friends, ove...\n",
      "29    [I, came, to, The, Men, 's, Club, of, Charlott...\n",
      "Name: review, dtype: object\n"
     ]
    }
   ],
   "source": [
    "print(reviews_words[:30])"
   ]
  },
  {
   "cell_type": "code",
   "execution_count": 5,
   "metadata": {},
   "outputs": [],
   "source": [
    "# Stemming: Reduce words to their root form using Porter Stemmer\n",
    "porter = nltk.stem.PorterStemmer()\n",
    "stemmed_words = [porter.stem(word) for word in words]"
   ]
  },
  {
   "cell_type": "code",
   "execution_count": 6,
   "metadata": {},
   "outputs": [
    {
     "name": "stdout",
     "output_type": "stream",
     "text": [
      "['[', 'emma', 'by', 'jane', 'austen', '1816', ']', 'volum', 'i', 'chapter', 'i', 'emma', 'woodhous', ',', 'handsom', ',', 'clever', ',', 'and', 'rich', ',', 'with', 'a', 'comfort', 'home', 'and', 'happi', 'disposit', ',', 'seem', 'to', 'unit', 'some', 'of', 'the', 'best', 'bless', 'of', 'exist', ';']\n"
     ]
    }
   ],
   "source": [
    "print(stemmed_words[:40])"
   ]
  },
  {
   "cell_type": "code",
   "execution_count": 7,
   "metadata": {},
   "outputs": [],
   "source": [
    "# Lemmatization: Further reduce the stemmed words by considering their context\n",
    "lemmatizer = nltk.stem.WordNetLemmatizer()\n",
    "lemmatized_words = [lemmatizer.lemmatize(word) for word in stemmed_words]"
   ]
  },
  {
   "cell_type": "code",
   "execution_count": 8,
   "metadata": {},
   "outputs": [
    {
     "name": "stdout",
     "output_type": "stream",
     "text": [
      "['[', 'emma', 'by', 'jane', 'austen', '1816', ']', 'volum', 'i', 'chapter', 'i', 'emma', 'woodhous', ',', 'handsom', ',', 'clever', ',', 'and', 'rich', ',', 'with', 'a', 'comfort', 'home', 'and', 'happi', 'disposit', ',', 'seem', 'to', 'unit', 'some', 'of', 'the', 'best', 'bless', 'of', 'exist', ';']\n"
     ]
    }
   ],
   "source": [
    "print(lemmatized_words[:40])"
   ]
  },
  {
   "cell_type": "code",
   "execution_count": 9,
   "metadata": {},
   "outputs": [],
   "source": [
    "# Stop Word Removal: Eliminate common words that may not be useful for analysis\n",
    "stop_words = set(nltk.corpus.stopwords.words('english'))\n",
    "filtered_words = [word for word in lemmatized_words if word.lower() not in stop_words]"
   ]
  },
  {
   "cell_type": "code",
   "execution_count": 10,
   "metadata": {},
   "outputs": [
    {
     "name": "stdout",
     "output_type": "stream",
     "text": [
      "['[', 'emma', 'jane', 'austen', '1816', ']', 'volum', 'chapter', 'emma', 'woodhous', ',', 'handsom', ',', 'clever', ',', 'rich', ',', 'comfort', 'home', 'happi', 'disposit', ',', 'seem', 'unit', 'best', 'bless', 'exist', ';', 'live', 'nearli', 'twenty-on', 'year', 'world', 'veri', 'littl', 'distress', 'vex', '.', 'wa', 'youngest']\n"
     ]
    }
   ],
   "source": [
    "print(filtered_words[:40])"
   ]
  },
  {
   "cell_type": "code",
   "execution_count": 11,
   "metadata": {},
   "outputs": [],
   "source": [
    "# Part 3: Feature Extraction Techniques\n",
    "from sklearn.feature_extraction.text import CountVectorizer\n",
    "\n",
    "# Initialize CountVectorizer\n",
    "vectorizer = CountVectorizer()\n",
    "\n",
    "# Fit and transform the preprocessed text\n",
    "bow_matrix = vectorizer.fit_transform(sentences)"
   ]
  },
  {
   "cell_type": "code",
   "execution_count": 12,
   "metadata": {},
   "outputs": [
    {
     "name": "stdout",
     "output_type": "stream",
     "text": [
      "  (0, 12467)\t2\n",
      "  (0, 5692)\t1\n",
      "  (0, 20392)\t1\n",
      "  (0, 3057)\t1\n",
      "  (0, 142)\t1\n",
      "  (0, 40378)\t1\n",
      "  (0, 6548)\t1\n",
      "  (0, 41522)\t1\n",
      "  (0, 17060)\t1\n",
      "  (0, 7225)\t1\n",
      "  (0, 1938)\t3\n",
      "  (0, 31001)\t1\n",
      "  (0, 41395)\t2\n",
      "  (0, 7620)\t1\n",
      "  (0, 18068)\t1\n",
      "  (0, 17114)\t1\n",
      "  (0, 11060)\t1\n",
      "  (0, 32391)\t1\n",
      "  (0, 37449)\t2\n",
      "  (0, 39016)\t1\n",
      "  (0, 34271)\t1\n",
      "  (0, 25584)\t2\n",
      "  (0, 36954)\t2\n",
      "  (0, 4210)\t1\n",
      "  (0, 4627)\t1\n",
      "  :\t:\n",
      "  (28, 17684)\t1\n",
      "  (28, 40697)\t1\n",
      "  (28, 13997)\t1\n",
      "  (28, 14871)\t1\n",
      "  (28, 5641)\t1\n",
      "  (28, 20241)\t3\n",
      "  (28, 25255)\t1\n",
      "  (28, 26111)\t1\n",
      "  (28, 3734)\t1\n",
      "  (28, 8716)\t1\n",
      "  (28, 6509)\t1\n",
      "  (28, 23438)\t1\n",
      "  (28, 33427)\t1\n",
      "  (28, 41374)\t1\n",
      "  (28, 18973)\t1\n",
      "  (28, 37057)\t1\n",
      "  (28, 37315)\t1\n",
      "  (28, 3183)\t1\n",
      "  (28, 22668)\t1\n",
      "  (28, 24860)\t1\n",
      "  (28, 6689)\t1\n",
      "  (29, 17936)\t1\n",
      "  (29, 34668)\t1\n",
      "  (29, 30574)\t1\n",
      "  (29, 35980)\t1\n"
     ]
    }
   ],
   "source": [
    "print(bow_matrix[:30])"
   ]
  },
  {
   "cell_type": "code",
   "execution_count": 13,
   "metadata": {},
   "outputs": [],
   "source": [
    "from sklearn.feature_extraction.text import TfidfVectorizer\n",
    "\n",
    "# Initialize TfidfVectorizer\n",
    "vectorizer_tfidf = TfidfVectorizer()\n",
    "\n",
    "# Fit and transform the preprocessed text\n",
    "tfidf_matrix = vectorizer_tfidf.fit_transform(sentences)\n"
   ]
  },
  {
   "cell_type": "code",
   "execution_count": 14,
   "metadata": {},
   "outputs": [
    {
     "name": "stdout",
     "output_type": "stream",
     "text": [
      "  (0, 12467)\t0.2633509409553818\n",
      "  (0, 5692)\t0.08253777661692062\n",
      "  (0, 20392)\t0.157123172592659\n",
      "  (0, 3057)\t0.25445404658144466\n",
      "  (0, 142)\t0.2703876611028345\n",
      "  (0, 40378)\t0.20738302135122805\n",
      "  (0, 6548)\t0.15212734216584745\n",
      "  (0, 41522)\t0.15590662700469524\n",
      "  (0, 17060)\t0.17514798691534425\n",
      "  (0, 7225)\t0.18646871459695763\n",
      "  (0, 1938)\t0.11627893229136303\n",
      "  (0, 31001)\t0.16101636507084807\n",
      "  (0, 41395)\t0.13338724591922949\n",
      "  (0, 7620)\t0.17869150202939774\n",
      "  (0, 18068)\t0.13715167236260126\n",
      "  (0, 17114)\t0.1413987255440509\n",
      "  (0, 11060)\t0.18738223930774586\n",
      "  (0, 32391)\t0.12638687171944016\n",
      "  (0, 37449)\t0.09693120686172989\n",
      "  (0, 39016)\t0.22119321834123656\n",
      "  (0, 34271)\t0.10646721774016332\n",
      "  (0, 25584)\t0.08762210878340138\n",
      "  (0, 36954)\t0.07228283336204903\n",
      "  (0, 4210)\t0.14037141667846958\n",
      "  (0, 4627)\t0.21424458315278766\n",
      "  :\t:\n",
      "  (28, 17684)\t0.12637657873555036\n",
      "  (28, 40697)\t0.10116224796417972\n",
      "  (28, 13997)\t0.16972240666997865\n",
      "  (28, 14871)\t0.09874726052166502\n",
      "  (28, 5641)\t0.10544400994338628\n",
      "  (28, 20241)\t0.28535570662425747\n",
      "  (28, 25255)\t0.10079431663364045\n",
      "  (28, 26111)\t0.1664378215049531\n",
      "  (28, 3734)\t0.10536495017659205\n",
      "  (28, 8716)\t0.15342053971762185\n",
      "  (28, 6509)\t0.24300876512406686\n",
      "  (28, 23438)\t0.2906008717313292\n",
      "  (28, 33427)\t0.28399533451695613\n",
      "  (28, 41374)\t0.2215730448853056\n",
      "  (28, 18973)\t0.25684689245032044\n",
      "  (28, 37057)\t0.17550337722242562\n",
      "  (28, 37315)\t0.19657025047422616\n",
      "  (28, 3183)\t0.3320588332647291\n",
      "  (28, 22668)\t0.16248585586730233\n",
      "  (28, 24860)\t0.26364054774532536\n",
      "  (28, 6689)\t0.2777060570887714\n",
      "  (29, 17936)\t0.2077122330733447\n",
      "  (29, 34668)\t0.4850351790446453\n",
      "  (29, 30574)\t0.5902667211656899\n",
      "  (29, 35980)\t0.6108859968972271\n"
     ]
    }
   ],
   "source": [
    "print(tfidf_matrix[:30])"
   ]
  }
 ],
 "metadata": {
  "kernelspec": {
   "display_name": "Python 3",
   "language": "python",
   "name": "python3"
  },
  "language_info": {
   "codemirror_mode": {
    "name": "ipython",
    "version": 3
   },
   "file_extension": ".py",
   "mimetype": "text/x-python",
   "name": "python",
   "nbconvert_exporter": "python",
   "pygments_lexer": "ipython3",
   "version": "3.12.1"
  }
 },
 "nbformat": 4,
 "nbformat_minor": 2
}
